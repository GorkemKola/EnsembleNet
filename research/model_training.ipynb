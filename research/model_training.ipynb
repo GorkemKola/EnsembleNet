{
 "cells": [
  {
   "cell_type": "code",
   "execution_count": 1,
   "metadata": {},
   "outputs": [
    {
     "data": {
      "text/plain": [
       "'/home/gorkemkola/Desktop/Projects/EnsembleNet/research'"
      ]
     },
     "execution_count": 1,
     "metadata": {},
     "output_type": "execute_result"
    }
   ],
   "source": [
    "%pwd"
   ]
  },
  {
   "cell_type": "code",
   "execution_count": 2,
   "metadata": {},
   "outputs": [
    {
     "name": "stdout",
     "output_type": "stream",
     "text": [
      "/home/gorkemkola/Desktop/Projects/EnsembleNet\n"
     ]
    },
    {
     "data": {
      "text/plain": [
       "'/home/gorkemkola/Desktop/Projects/EnsembleNet'"
      ]
     },
     "execution_count": 2,
     "metadata": {},
     "output_type": "execute_result"
    }
   ],
   "source": [
    "%cd ..\n",
    "%pwd"
   ]
  },
  {
   "cell_type": "code",
   "execution_count": null,
   "metadata": {},
   "outputs": [],
   "source": [
    "import os\n",
    "from ensemblenet.entity import TrainingConfig\n",
    "from ensemblenet.constants import *\n",
    "from ensemblenet.utils import read_yaml, create_directories, logger"
   ]
  },
  {
   "cell_type": "code",
   "execution_count": 4,
   "metadata": {},
   "outputs": [],
   "source": [
    "class ConfigurationManager:\n",
    "    def __init__(\n",
    "            self,\n",
    "            config_filepath = CONFIG_FILE_PATH,\n",
    "            params_filepath = PARAMS_FILE_PATH,\n",
    "        ) -> None:\n",
    "\n",
    "        self.config = read_yaml(config_filepath)\n",
    "        self.params = read_yaml(params_filepath)\n",
    "\n",
    "        # --- Model Selection and Validation ---\n",
    "        # Add 'attention_ensemble' to your allowed list if that's the name you use\n",
    "        allowed_models = [\n",
    "            \"resnet\", \n",
    "            \"inception_v3\", \n",
    "            \"vit\", \n",
    "            \"attention_ensemble\", \n",
    "            \"squeezenet\", \n",
    "            \"shufflenet\", \n",
    "            \"mobilenet\", \n",
    "            \"attention_ensemble_better\",\n",
    "            \"mnasnet\",\n",
    "            \"ensemblenet\",\n",
    "            \"ensemblenet0\",\n",
    "            \"ensemblenet1\",\n",
    "            \"ensemblenet2\"\n",
    "\n",
    "        ]\n",
    "        if self.params.MODEL_NAME not in allowed_models:\n",
    "             raise ValueError(f\"Invalid MODEL_NAME '{self.params.MODEL_NAME}' in params.yaml. Choose from {allowed_models}\")\n",
    "        self.model_name = self.params.MODEL_NAME\n",
    "        # --- End ---\n",
    "\n",
    "        create_directories(\n",
    "            [\n",
    "                self.config.artifacts_root,\n",
    "                Path(self.config.training.root_dir),\n",
    "                Path(self.config.training.tensorboard_log_dir),\n",
    "            ]\n",
    "        )\n",
    "\n",
    "    def _validate_data_dirs(self, train_dir, val_dir, test_dir, expected_classes):\n",
    "        \"\"\"Check if data directories exist and validate class count.\"\"\"\n",
    "        paths_to_check = {\"train\": train_dir, \"validation\": val_dir, \"test\": test_dir}\n",
    "        for split, path in paths_to_check.items():\n",
    "            if not os.path.isdir(path):\n",
    "                raise NotADirectoryError(f\"{split.capitalize()} data directory not found at: {path}\")\n",
    "            try:\n",
    "                # Count subdirectories (classes) in the training dir for validation\n",
    "                if split == 'train':\n",
    "                    actual_classes = len([name for name in os.listdir(path) if os.path.isdir(os.path.join(path, name))])\n",
    "                    if actual_classes == 0:\n",
    "                         raise ValueError(f\"No subdirectories (classes) found in {path}\")\n",
    "                    if actual_classes != expected_classes:\n",
    "                         logger.warning(f\"Class count mismatch in {split} dir! params.yaml says {expected_classes}, \"\n",
    "                                       f\"but found {actual_classes} subdirectories in {path}. Using {expected_classes} from params.\")\n",
    "                         # Decide if this should be a hard error:\n",
    "                         # raise ValueError(f\"Class count mismatch...\")\n",
    "                    else:\n",
    "                         logger.info(f\"Validated {actual_classes} classes in {path}, matching params.yaml.\")\n",
    "            except Exception as e:\n",
    "                 logger.error(f\"Could not validate directory structure in {path}: {e}\")\n",
    "                 raise\n",
    "\n",
    "    def get_training_config(self) -> TrainingConfig:\n",
    "        config_train = self.config.training\n",
    "        config_data = self.config.data_ingestion\n",
    "        config_ensemble = self.config.prepare_ensemble_model\n",
    "        params = self.params\n",
    "\n",
    "        # --- Get Data Paths ---\n",
    "        train_data_path = Path(config_data.train_dir)\n",
    "        valid_data_path = Path(config_data.val_dir)\n",
    "        test_data_path = Path(config_data.test_dir)\n",
    "        # --- End ---\n",
    "\n",
    "        # --- Get Classes and Pretrained Flag ---\n",
    "        num_classes = params.CLASSES\n",
    "        # Determine if pretrained weights should be used based on param\n",
    "        use_pretrained = params.PRETRAINED_WEIGHTS is not None and params.PRETRAINED_WEIGHTS.upper() != 'NONE'\n",
    "        logger.info(f\"Number of classes set to: {num_classes}\")\n",
    "        logger.info(f\"Use pretrained weights: {use_pretrained} (Based on PRETRAINED_WEIGHTS: {params.PRETRAINED_WEIGHTS})\")\n",
    "        # --- End ---\n",
    "\n",
    "        # --- Validate Data Directories ---\n",
    "        self._validate_data_dirs(train_data_path, valid_data_path, test_data_path, num_classes)\n",
    "        # --- End ---\n",
    "\n",
    "        # --- Get Ensemble Model Path ---\n",
    "        ensemble_model_path = Path(config_ensemble.ensemble_model_path)\n",
    "        if self.model_name == \"attention_ensemble\" and not ensemble_model_path.exists():\n",
    "             logger.warning(f\"Selected MODEL_NAME is 'attention_ensemble', but the model file \"\n",
    "                            f\"at {ensemble_model_path} does not exist!\")\n",
    "\n",
    "        # --- Construct model-specific save paths using templates ---\n",
    "        last_model_path = Path(config_train.last_model_path_template.format(model_name=self.model_name))\n",
    "        best_model_path = Path(config_train.best_model_path_template.format(model_name=self.model_name))\n",
    "        create_directories([last_model_path.parent, best_model_path.parent]) # Ensure parent dirs exist\n",
    "        # --- End ---\n",
    "\n",
    "        # --- Log Image Size Warning (as before) ---\n",
    "        expected_size = None\n",
    "        if self.model_name == \"inception_v3\": expected_size = (299, 299)\n",
    "        elif self.model_name == \"vit\": expected_size = (224, 224)\n",
    "        current_size = tuple(params.IMAGE_SIZE[:2])\n",
    "        if expected_size and current_size != expected_size:\n",
    "            logger.warning(f\"Model '{self.model_name}' typically expects input size {expected_size}, \"\n",
    "                           f\"but IMAGE_SIZE is set to {current_size}.\")\n",
    "        # --- End Log ---\n",
    "\n",
    "        find_lr_flag = getattr(params, 'FIND_LR', False) # Default to False if not in params\n",
    "        logger.info(f\"Run Learning Rate Finder: {find_lr_flag}\")\n",
    "        # --- Construct LR finder plot path ---\n",
    "        lr_plot_filename = f\"lr_finder_plot_{self.model_name}.png\"\n",
    "        lr_finder_plot_path = Path(config_train.root_dir) / lr_plot_filename\n",
    "        create_directories([lr_finder_plot_path.parent]) # Ensure parent dir exists\n",
    "\n",
    "        training_config = TrainingConfig(\n",
    "            root_dir=Path(config_train.root_dir),\n",
    "            last_model_path=last_model_path,\n",
    "            best_model_path=best_model_path,\n",
    "            train_data_path=train_data_path,\n",
    "            valid_data_path=valid_data_path,\n",
    "            test_data_path=test_data_path,\n",
    "            attention_ensemble_model_path=ensemble_model_path,\n",
    "            model_name=self.model_name,\n",
    "            num_classes=num_classes,         \n",
    "            use_pretrained=use_pretrained,   \n",
    "            lr_finder_plot_path=lr_finder_plot_path,    \n",
    "            params_epochs=params.EPOCHS,\n",
    "            params_batch_size=params.BATCH_SIZE,\n",
    "            params_augmentation=params.AUGMENTATION,\n",
    "            params_image_size=params.IMAGE_SIZE,\n",
    "            params_early_stopping_patience=params.EARLY_STOPPING_PATIENCE,\n",
    "            params_learning_rate=params.LEARNING_RATE,\n",
    "            params_random_state=params.RANDOM_STATE,\n",
    "            params_find_lr=find_lr_flag,                    \n",
    "        )\n",
    "        \n",
    "        return training_config"
   ]
  },
  {
   "cell_type": "code",
   "execution_count": 5,
   "metadata": {},
   "outputs": [
    {
     "name": "stdout",
     "output_type": "stream",
     "text": [
      "[2025-06-21 13:34:25,594: INFO: utils: yaml file config/config.yaml loaded successfully:]\n",
      "[2025-06-21 13:34:25,597: INFO: utils: yaml file config/params.yaml loaded successfully:]\n",
      "[2025-06-21 13:34:25,598: INFO: utils: created directory at: artifacts:]\n",
      "[2025-06-21 13:34:25,599: INFO: utils: created directory at: artifacts/training:]\n",
      "[2025-06-21 13:34:25,600: INFO: utils: created directory at: artifacts/training/logs:]\n",
      "[2025-06-21 13:34:25,600: INFO: 2615980527: Number of classes set to: 257:]\n",
      "[2025-06-21 13:34:25,600: INFO: 2615980527: Use pretrained weights: True (Based on PRETRAINED_WEIGHTS: IMAGENET1K_V1):]\n",
      "[2025-06-21 13:34:25,601: ERROR: 2615980527: Could not validate directory structure in artifacts/data_ingestion/train: No subdirectories (classes) found in artifacts/data_ingestion/train:]\n"
     ]
    },
    {
     "ename": "ValueError",
     "evalue": "No subdirectories (classes) found in artifacts/data_ingestion/train",
     "output_type": "error",
     "traceback": [
      "\u001b[31m---------------------------------------------------------------------------\u001b[39m",
      "\u001b[31mValueError\u001b[39m                                Traceback (most recent call last)",
      "\u001b[36mCell\u001b[39m\u001b[36m \u001b[39m\u001b[32mIn[5]\u001b[39m\u001b[32m, line 1\u001b[39m\n\u001b[32m----> \u001b[39m\u001b[32m1\u001b[39m \u001b[43mConfigurationManager\u001b[49m\u001b[43m(\u001b[49m\u001b[43m)\u001b[49m\u001b[43m.\u001b[49m\u001b[43mget_training_config\u001b[49m\u001b[43m(\u001b[49m\u001b[43m)\u001b[49m\n",
      "\u001b[36mCell\u001b[39m\u001b[36m \u001b[39m\u001b[32mIn[4]\u001b[39m\u001b[32m, line 86\u001b[39m, in \u001b[36mConfigurationManager.get_training_config\u001b[39m\u001b[34m(self)\u001b[39m\n\u001b[32m     82\u001b[39m logger.info(\u001b[33mf\u001b[39m\u001b[33m\"\u001b[39m\u001b[33mUse pretrained weights: \u001b[39m\u001b[38;5;132;01m{\u001b[39;00muse_pretrained\u001b[38;5;132;01m}\u001b[39;00m\u001b[33m (Based on PRETRAINED_WEIGHTS: \u001b[39m\u001b[38;5;132;01m{\u001b[39;00mparams.PRETRAINED_WEIGHTS\u001b[38;5;132;01m}\u001b[39;00m\u001b[33m)\u001b[39m\u001b[33m\"\u001b[39m)\n\u001b[32m     83\u001b[39m \u001b[38;5;66;03m# --- End ---\u001b[39;00m\n\u001b[32m     84\u001b[39m \n\u001b[32m     85\u001b[39m \u001b[38;5;66;03m# --- Validate Data Directories ---\u001b[39;00m\n\u001b[32m---> \u001b[39m\u001b[32m86\u001b[39m \u001b[38;5;28;43mself\u001b[39;49m\u001b[43m.\u001b[49m\u001b[43m_validate_data_dirs\u001b[49m\u001b[43m(\u001b[49m\u001b[43mtrain_data_path\u001b[49m\u001b[43m,\u001b[49m\u001b[43m \u001b[49m\u001b[43mvalid_data_path\u001b[49m\u001b[43m,\u001b[49m\u001b[43m \u001b[49m\u001b[43mtest_data_path\u001b[49m\u001b[43m,\u001b[49m\u001b[43m \u001b[49m\u001b[43mnum_classes\u001b[49m\u001b[43m)\u001b[49m\n\u001b[32m     87\u001b[39m \u001b[38;5;66;03m# --- End ---\u001b[39;00m\n\u001b[32m     88\u001b[39m \n\u001b[32m     89\u001b[39m \u001b[38;5;66;03m# --- Get Ensemble Model Path ---\u001b[39;00m\n\u001b[32m     90\u001b[39m ensemble_model_path = Path(config_ensemble.ensemble_model_path)\n",
      "\u001b[36mCell\u001b[39m\u001b[36m \u001b[39m\u001b[32mIn[4]\u001b[39m\u001b[32m, line 53\u001b[39m, in \u001b[36mConfigurationManager._validate_data_dirs\u001b[39m\u001b[34m(self, train_dir, val_dir, test_dir, expected_classes)\u001b[39m\n\u001b[32m     51\u001b[39m actual_classes = \u001b[38;5;28mlen\u001b[39m([name \u001b[38;5;28;01mfor\u001b[39;00m name \u001b[38;5;129;01min\u001b[39;00m os.listdir(path) \u001b[38;5;28;01mif\u001b[39;00m os.path.isdir(os.path.join(path, name))])\n\u001b[32m     52\u001b[39m \u001b[38;5;28;01mif\u001b[39;00m actual_classes == \u001b[32m0\u001b[39m:\n\u001b[32m---> \u001b[39m\u001b[32m53\u001b[39m      \u001b[38;5;28;01mraise\u001b[39;00m \u001b[38;5;167;01mValueError\u001b[39;00m(\u001b[33mf\u001b[39m\u001b[33m\"\u001b[39m\u001b[33mNo subdirectories (classes) found in \u001b[39m\u001b[38;5;132;01m{\u001b[39;00mpath\u001b[38;5;132;01m}\u001b[39;00m\u001b[33m\"\u001b[39m)\n\u001b[32m     54\u001b[39m \u001b[38;5;28;01mif\u001b[39;00m actual_classes != expected_classes:\n\u001b[32m     55\u001b[39m      logger.warning(\u001b[33mf\u001b[39m\u001b[33m\"\u001b[39m\u001b[33mClass count mismatch in \u001b[39m\u001b[38;5;132;01m{\u001b[39;00msplit\u001b[38;5;132;01m}\u001b[39;00m\u001b[33m dir! params.yaml says \u001b[39m\u001b[38;5;132;01m{\u001b[39;00mexpected_classes\u001b[38;5;132;01m}\u001b[39;00m\u001b[33m, \u001b[39m\u001b[33m\"\u001b[39m\n\u001b[32m     56\u001b[39m                    \u001b[33mf\u001b[39m\u001b[33m\"\u001b[39m\u001b[33mbut found \u001b[39m\u001b[38;5;132;01m{\u001b[39;00mactual_classes\u001b[38;5;132;01m}\u001b[39;00m\u001b[33m subdirectories in \u001b[39m\u001b[38;5;132;01m{\u001b[39;00mpath\u001b[38;5;132;01m}\u001b[39;00m\u001b[33m. Using \u001b[39m\u001b[38;5;132;01m{\u001b[39;00mexpected_classes\u001b[38;5;132;01m}\u001b[39;00m\u001b[33m from params.\u001b[39m\u001b[33m\"\u001b[39m)\n",
      "\u001b[31mValueError\u001b[39m: No subdirectories (classes) found in artifacts/data_ingestion/train"
     ]
    }
   ],
   "source": [
    "ConfigurationManager().get_training_config()"
   ]
  },
  {
   "cell_type": "code",
   "execution_count": null,
   "metadata": {},
   "outputs": [],
   "source": [
    "from ensemblenet.components.ensemblenet import EnsembleNet"
   ]
  },
  {
   "cell_type": "code",
   "execution_count": null,
   "metadata": {},
   "outputs": [],
   "source": [
    "import traceback\n",
    "import math\n",
    "import numpy as np\n",
    "import pandas as pd\n",
    "import csv\n",
    "from pathlib import Path\n",
    "from datetime import datetime\n",
    "import torch\n",
    "import torch.nn as nn\n",
    "import torch.optim as optim\n",
    "import torch.nn.functional as F\n",
    "from torch.utils.data import DataLoader\n",
    "from torchvision import datasets, transforms, models\n",
    "from tqdm import tqdm\n",
    "from sklearn.metrics import accuracy_score, precision_score, recall_score, f1_score\n",
    "from ignite.engine import Engine\n",
    "from ignite.handlers import FastaiLRFinder\n",
    "import os\n",
    "\n",
    "torch.manual_seed(24120200)\n",
    "\n",
    "class FocalLoss(nn.Module):\n",
    "    \"\"\"\n",
    "    Focal Loss for addressing class imbalance.\n",
    "    \n",
    "    Focal Loss = -alpha * (1 - p_t)^gamma * log(p_t)\n",
    "    \n",
    "    Args:\n",
    "        alpha (float or Tensor): Weighting factor (default: 1.0)\n",
    "        gamma (float): Focusing parameter (default: 2.0)\n",
    "        reduction (str): 'mean', 'sum', or 'none' (default: 'mean')\n",
    "        ignore_index (int): Index to ignore (default: -100)\n",
    "    \"\"\"\n",
    "    \n",
    "    def __init__(self, alpha=1.0, gamma=2.0, reduction='mean', ignore_index=-100):\n",
    "        super(FocalLoss, self).__init__()\n",
    "        self.alpha = alpha\n",
    "        self.gamma = gamma\n",
    "        self.reduction = reduction\n",
    "        self.ignore_index = ignore_index\n",
    "        self.ce_loss = nn.CrossEntropyLoss(reduction='none', ignore_index=ignore_index)\n",
    "    \n",
    "    def forward(self, outputs, targets):\n",
    "        \"\"\"\n",
    "        Args:\n",
    "            outputs (Tensor): Model predictions (logits) of shape (N, C)\n",
    "            targets (Tensor): Ground truth labels of shape (N,)\n",
    "        \n",
    "        Returns:\n",
    "            Tensor: Focal loss\n",
    "        \"\"\"\n",
    "        ce_loss = self.ce_loss(outputs, targets)\n",
    "        p_t = torch.exp(-ce_loss)  # Convert back to probabilities\n",
    "        \n",
    "        # Handle ignore_index\n",
    "        if self.ignore_index >= 0:\n",
    "            ignore_mask = targets == self.ignore_index\n",
    "            p_t = p_t.masked_fill(ignore_mask, 1.0)\n",
    "        \n",
    "        # Calculate focal weight\n",
    "        focal_weight = (1 - p_t) ** self.gamma\n",
    "        \n",
    "        # Apply alpha weighting\n",
    "        if isinstance(self.alpha, (float, int)):\n",
    "            alpha_weight = self.alpha\n",
    "        else:\n",
    "            alpha_weight = self.alpha.gather(0, targets)\n",
    "        \n",
    "        focal_loss = alpha_weight * focal_weight * ce_loss\n",
    "        \n",
    "        if self.reduction == 'mean':\n",
    "            return focal_loss.mean()\n",
    "        elif self.reduction == 'sum':\n",
    "            return focal_loss.sum()\n",
    "        else:\n",
    "            return focal_loss\n",
    "\n",
    "class Training:\n",
    "    def __init__(self, config: TrainingConfig):\n",
    "        self.config = config\n",
    "        self.device = torch.device(\"cuda\" if torch.cuda.is_available() else \"cpu\")\n",
    "        logger.info(f\"Using device: {self.device}\")\n",
    "        self.model = None\n",
    "        self.train_loader = None\n",
    "        self.valid_loader = None\n",
    "        self.test_loader = None\n",
    "        \n",
    "        # Initialize CSV logging\n",
    "        self.setup_csv_logging()\n",
    "        \n",
    "    def setup_csv_logging(self):\n",
    "        \"\"\"Setup CSV files for logging metrics and hyperparameters\"\"\"\n",
    "        # Create logging directory if it doesn't exist\n",
    "        log_dir = Path(self.config.root_dir) / \"logs\"\n",
    "        log_dir.mkdir(exist_ok=True)\n",
    "        \n",
    "        # Generate timestamp for unique file names\n",
    "        timestamp = datetime.now().strftime(\"%Y%m%d_%H%M%S\")\n",
    "        \n",
    "        # Define CSV file paths\n",
    "        self.metrics_csv_path = log_dir / f\"training_metrics_{self.config.model_name}.csv\"\n",
    "        self.hyperparams_csv_path = log_dir / f\"hyperparameters_{self.config.model_name}.csv\"\n",
    "        self.lr_finder_csv_path = log_dir / f\"lr_finder_results_{self.config.model_name}.csv\"\n",
    "        \n",
    "        # Initialize metrics CSV with headers\n",
    "        metrics_headers = [\n",
    "            'epoch', 'train_loss', 'valid_loss', 'accuracy', 'precision', \n",
    "            'recall', 'f1_score', 'learning_rate', 'is_best_model', \n",
    "            'early_stopping_counter', 'timestamp'\n",
    "        ]\n",
    "        \n",
    "        with open(self.metrics_csv_path, 'w', newline='') as f:\n",
    "            writer = csv.writer(f)\n",
    "            writer.writerow(metrics_headers)\n",
    "        \n",
    "        logger.info(f\"Metrics CSV initialized: {self.metrics_csv_path}\")\n",
    "        \n",
    "        # Save hyperparameters immediately\n",
    "        self.save_hyperparameters()\n",
    "        \n",
    "    def save_hyperparameters(self):\n",
    "        \"\"\"Save all hyperparameters and configuration to CSV\"\"\"\n",
    "        hyperparams_data = []\n",
    "        \n",
    "        # Get all config attributes\n",
    "        config_dict = vars(self.config)\n",
    "        \n",
    "        # Add system information\n",
    "        hyperparams_data.extend([\n",
    "            ('timestamp', datetime.now().isoformat()),\n",
    "            ('device', str(self.device)),\n",
    "            ('torch_version', torch.__version__),\n",
    "            ('cuda_available', torch.cuda.is_available()),\n",
    "            ('cuda_version', torch.version.cuda if torch.cuda.is_available() else 'N/A'),\n",
    "        ])\n",
    "        \n",
    "        # Add configuration parameters\n",
    "        for key, value in config_dict.items():\n",
    "            hyperparams_data.append((key, str(value)))\n",
    "        \n",
    "        # Add derived parameters\n",
    "        if hasattr(self, 'train_loader') and self.train_loader:\n",
    "            hyperparams_data.extend([\n",
    "                ('total_train_samples', len(self.train_loader.dataset)),\n",
    "                ('train_batches_per_epoch', len(self.train_loader)),\n",
    "            ])\n",
    "        \n",
    "        if hasattr(self, 'valid_loader') and self.valid_loader:\n",
    "            hyperparams_data.extend([\n",
    "                ('total_valid_samples', len(self.valid_loader.dataset)),\n",
    "                ('valid_batches_per_epoch', len(self.valid_loader)),\n",
    "            ])\n",
    "            \n",
    "        if hasattr(self, 'test_loader') and self.test_loader:\n",
    "            hyperparams_data.extend([\n",
    "                ('total_test_samples', len(self.test_loader.dataset)),\n",
    "                ('test_batches_per_epoch', len(self.test_loader)),\n",
    "            ])\n",
    "        \n",
    "        # Save to CSV\n",
    "        df_hyperparams = pd.DataFrame(hyperparams_data, columns=['parameter', 'value'])\n",
    "        df_hyperparams.to_csv(self.hyperparams_csv_path, index=False)\n",
    "        \n",
    "        logger.info(f\"Hyperparameters saved to: {self.hyperparams_csv_path}\")\n",
    "        \n",
    "    def log_metrics_to_csv(self, epoch, train_loss, valid_loss, accuracy, precision, \n",
    "                          recall, f1, learning_rate, is_best_model, early_stopping_counter):\n",
    "        \"\"\"Log training metrics to CSV\"\"\"\n",
    "        timestamp = datetime.now().isoformat()\n",
    "        \n",
    "        metrics_row = [\n",
    "            epoch + 1,  # 1-indexed for readability\n",
    "            train_loss,\n",
    "            valid_loss,\n",
    "            accuracy,\n",
    "            precision,\n",
    "            recall,\n",
    "            f1,\n",
    "            learning_rate,\n",
    "            is_best_model,\n",
    "            early_stopping_counter,\n",
    "            timestamp\n",
    "        ]\n",
    "        \n",
    "        with open(self.metrics_csv_path, 'a', newline='') as f:\n",
    "            writer = csv.writer(f)\n",
    "            writer.writerow(metrics_row)\n",
    "            \n",
    "    def save_lr_finder_results(self, lr_finder, suggested_lr=None):\n",
    "        \"\"\"Save LR finder results to CSV, including suggested learning rate\"\"\"\n",
    "        try:\n",
    "            results = lr_finder.get_results()\n",
    "            if results and 'lr' in results and 'loss' in results:\n",
    "                df_lr = pd.DataFrame({\n",
    "                    'learning_rate': results['lr'],\n",
    "                    'loss': results['loss']\n",
    "                })\n",
    "                df_lr.to_csv(self.lr_finder_csv_path, index=False)\n",
    "                logger.info(f\"LR Finder results saved to: {self.lr_finder_csv_path}\")\n",
    "                \n",
    "                # Save suggested learning rate to a separate file\n",
    "                if suggested_lr is not None:\n",
    "                    # Handle both Path objects and strings\n",
    "                    if hasattr(self.lr_finder_csv_path, 'parent'):\n",
    "                        # Path object\n",
    "                        lr_suggestion_path = self.lr_finder_csv_path.parent / (self.lr_finder_csv_path.stem + '_suggested_lr.txt')\n",
    "                    else:\n",
    "                        # String path\n",
    "                        lr_suggestion_path = str(self.lr_finder_csv_path).replace('.csv', '_suggested_lr.txt')\n",
    "                    \n",
    "                    with open(lr_suggestion_path, 'w') as f:\n",
    "                        f.write(str(suggested_lr))\n",
    "                    logger.info(f\"Suggested learning rate ({suggested_lr:.2e}) saved to: {lr_suggestion_path}\")\n",
    "            else:\n",
    "                logger.warning(\"No LR Finder results to save\")\n",
    "        except Exception as e:\n",
    "            logger.error(f\"Error saving LR Finder results: {e}\")\n",
    "\n",
    "    def load_suggested_lr(self):\n",
    "        \"\"\"Load previously saved suggested learning rate\"\"\"\n",
    "        try:\n",
    "            # Handle both Path objects and strings\n",
    "            if hasattr(self.lr_finder_csv_path, 'parent'):\n",
    "                # Path object\n",
    "                lr_suggestion_path = self.lr_finder_csv_path.parent / (self.lr_finder_csv_path.stem + '_suggested_lr.txt')\n",
    "            else:\n",
    "                # String path\n",
    "                lr_suggestion_path = str(self.lr_finder_csv_path).replace('.csv', '_suggested_lr.txt')\n",
    "            \n",
    "            if os.path.exists(lr_suggestion_path):\n",
    "                with open(lr_suggestion_path, 'r') as f:\n",
    "                    suggested_lr = float(f.read().strip())\n",
    "                logger.info(f\"Loaded previously suggested learning rate: {suggested_lr:.2e}\")\n",
    "                return suggested_lr\n",
    "            else:\n",
    "                logger.info(\"No previously saved suggested learning rate found\")\n",
    "                return None\n",
    "        except Exception as e:\n",
    "            logger.error(f\"Error loading suggested learning rate: {e}\")\n",
    "            return None\n",
    "\n",
    "    def find_optimal_lr_ignite(self, start_lr, end_lr=10, num_iter=100, step_mode=\"exp\", force_recalculate=False):\n",
    "        \"\"\"\n",
    "        Runs the LR Range Test using ignite.handlers.FastaiLRFinder.\n",
    "        Returns a suggested learning rate and saves results to CSV.\n",
    "        \n",
    "        Args:\n",
    "            end_lr: Maximum learning rate to test\n",
    "            num_iter: Number of iterations\n",
    "            step_mode: Step mode for learning rate schedule\n",
    "            force_recalculate: If True, recalculates even if saved results exist\n",
    "        \"\"\"\n",
    "        if not self.model or not self.train_loader:\n",
    "            logger.error(\"Model and Train Loader must be initialized before running LR Finder.\")\n",
    "            return None\n",
    "\n",
    "        # Check if we have a previously saved suggested learning rate\n",
    "        if not force_recalculate:\n",
    "            saved_lr = self.load_suggested_lr()\n",
    "            if saved_lr is not None:\n",
    "                logger.info(f\"Using previously calculated suggested learning rate: {saved_lr:.2e}\")\n",
    "                logger.info(\"Set force_recalculate=True to recalculate from scratch\")\n",
    "                return saved_lr\n",
    "\n",
    "        logger.info(f\"--- Running Learning Rate Finder (Ignite) ---\")\n",
    "        logger.info(f\"Using end_lr={end_lr}, num_iter={num_iter}, step_mode='{step_mode}'\")\n",
    "\n",
    "        self.model.train()\n",
    "        criterion = nn.CrossEntropyLoss()\n",
    "        temp_optimizer = optim.Adam(filter(lambda p: p.requires_grad, self.model.parameters()), lr=1e-7)\n",
    "\n",
    "        def update_fn(engine, batch):\n",
    "            inputs, labels = batch\n",
    "            inputs, labels = inputs.to(self.device), labels.to(self.device)\n",
    "\n",
    "            temp_optimizer.zero_grad()\n",
    "            outputs = self.model(inputs)\n",
    "            if self.config.model_name == \"attention_ensemble\":\n",
    "                logits = outputs\n",
    "                loss = F.cross_entropy(logits, labels)\n",
    "            elif isinstance(outputs, tuple) and hasattr(outputs, 'logits') and hasattr(outputs, 'aux_logits') and self.config.model_name == \"inception_v3\":\n",
    "                loss = criterion(outputs.logits, labels)\n",
    "            elif isinstance(outputs, tuple):\n",
    "                loss = criterion(outputs[0], labels)\n",
    "            else:\n",
    "                loss = criterion(outputs, labels)\n",
    "\n",
    "            loss.backward()\n",
    "            temp_optimizer.step()\n",
    "            return loss.item()\n",
    "\n",
    "        finder_engine = Engine(update_fn)\n",
    "        lr_finder = FastaiLRFinder()\n",
    "        to_save = {\"model\": self.model, \"optimizer\": temp_optimizer}\n",
    "\n",
    "        suggested_lr_final = None\n",
    "        try:\n",
    "            with lr_finder.attach(finder_engine, to_save=to_save, start_lr=start_lr, end_lr=end_lr) as trainer_with_lr_finder:\n",
    "                trainer_with_lr_finder.run(self.train_loader, max_epochs=1)\n",
    "\n",
    "            suggested_lr = lr_finder.lr_suggestion()\n",
    "\n",
    "            logger.info(\"Plotting LR Finder results...\")\n",
    "            fig = lr_finder.plot()\n",
    "            if fig:\n",
    "                plot_path = self.config.lr_finder_plot_path\n",
    "                logger.info(f\"LR Finder plot saved to: {plot_path}\")\n",
    "            else:\n",
    "                logger.warning(\"Could not generate LR Finder plot.\")\n",
    "\n",
    "            if suggested_lr is None:\n",
    "                logger.warning(\"Ignite LR Finder could not suggest a learning rate. Using fallback calculation.\")\n",
    "                results = lr_finder.get_results()\n",
    "                if results and 'lr' in results and 'loss' in results and len(results['loss']) > 0:\n",
    "                    min_loss_idx = results['loss'].index(min(results['loss']))\n",
    "                    min_loss_lr = results['lr'][min_loss_idx]\n",
    "                    suggested_lr_final = min_loss_lr / 10.0\n",
    "                    logger.info(f\"LR at Minimum Loss: {min_loss_lr:.2e}\")\n",
    "                    logger.info(f\"Fallback suggestion (Min Loss / 10): {suggested_lr_final:.2e}\")\n",
    "                else:\n",
    "                    logger.warning(\"Could not retrieve results for fallback calculation.\")\n",
    "                    suggested_lr_final = None\n",
    "            else:\n",
    "                logger.info(f\"Ignite LR Finder suggested learning rate: {suggested_lr:.2e}\")\n",
    "                suggested_lr_final = suggested_lr\n",
    "\n",
    "            # Apply bounds checking\n",
    "            if suggested_lr_final is not None:\n",
    "                if suggested_lr_final > 0.1:\n",
    "                    logger.warning(f\"Suggested LR {suggested_lr_final:.2e} seems high. Clamping to 0.1. Please check the plot!\")\n",
    "                    suggested_lr_final = 0.1\n",
    "                elif suggested_lr_final < 1e-7:\n",
    "                    logger.warning(f\"Suggested LR {suggested_lr_final:.2e} seems too low. Clamping to 1e-7. Please check the plot!\")\n",
    "                    suggested_lr_final = 1e-7\n",
    "\n",
    "            # Save results including the suggested learning rate\n",
    "            self.save_lr_finder_results(lr_finder, suggested_lr_final)\n",
    "\n",
    "        except Exception as e:\n",
    "            logger.error(f\"Error during Ignite LR Finder execution: {e}\")\n",
    "            import traceback\n",
    "            traceback.print_exc()\n",
    "            suggested_lr_final = None\n",
    "\n",
    "        logger.info(\"--- Learning Rate Finder (Ignite) Finished ---\")\n",
    "        return suggested_lr_final\n",
    "    \n",
    "    def build_model(self):\n",
    "        \"\"\"Builds/loads the specified model, using config flags.\"\"\"\n",
    "        logger.info(f\"Building model: {self.config.model_name}\")\n",
    "        num_classes = self.config.num_classes\n",
    "        use_pretrained = self.config.use_pretrained\n",
    "\n",
    "        if self.config.model_name == \"resnet\":\n",
    "            weights = models.ResNet50_Weights.IMAGENET1K_V1 if use_pretrained else None\n",
    "            model = models.resnet50(weights=weights)\n",
    "            log_msg = f\"Loading ResNet50 with {'ImageNet pretrained' if use_pretrained else 'random'} weights.\"\n",
    "            logger.info(log_msg)\n",
    "            num_ftrs = model.fc.in_features\n",
    "            model.fc = nn.Linear(num_ftrs, num_classes)\n",
    "            logger.info(f\"Adapted ResNet FC layer for {num_classes} classes.\")\n",
    "\n",
    "        elif self.config.model_name == \"inception_v3\":\n",
    "            weights = models.Inception_V3_Weights.IMAGENET1K_V1 if use_pretrained else None\n",
    "            model = models.inception_v3(weights=weights, aux_logits=True, transform_input=True)\n",
    "            log_msg = f\"Loading Inception V3 with {'ImageNet pretrained' if use_pretrained else 'random'} weights.\"\n",
    "            logger.info(log_msg)\n",
    "            num_ftrs = model.fc.in_features\n",
    "            model.fc = nn.Linear(num_ftrs, num_classes)\n",
    "            logger.info(f\"Adapted Inception V3 main FC layer for {num_classes} classes.\")\n",
    "            if hasattr(model, 'AuxLogits') and model.AuxLogits is not None:\n",
    "                num_ftrs_aux = model.AuxLogits.fc.in_features\n",
    "                model.AuxLogits.fc = nn.Linear(num_ftrs_aux, num_classes)\n",
    "                logger.info(f\"Adapted Inception V3 auxiliary FC layer for {num_classes} classes.\")\n",
    "            else:\n",
    "                logger.info(\"Inception V3 AuxLogits not present or adapted.\")\n",
    "\n",
    "        elif self.config.model_name == \"vit\":\n",
    "            weights = models.ViT_B_16_Weights.IMAGENET1K_V1 if use_pretrained else None\n",
    "            model = models.vit_b_16(weights=weights)\n",
    "            log_msg = f\"Loading ViT-B/16 with {'ImageNet pretrained' if use_pretrained else 'random'} weights.\"\n",
    "            logger.info(log_msg)\n",
    "            num_ftrs = model.heads.head.in_features\n",
    "            model.heads.head = nn.Linear(num_ftrs, num_classes)\n",
    "            logger.info(f\"Adapted ViT classification head for {num_classes} classes.\")\n",
    "\n",
    "        elif self.config.model_name == \"attention_ensemble\":\n",
    "            model_path = self.config.attention_ensemble_model_path\n",
    "            logger.info(f\"Loading Attention Ensemble model AND weights from: {model_path}\")\n",
    "            if not model_path.exists():\n",
    "                raise FileNotFoundError(f\"Attention ensemble model file not found at: {model_path}\")\n",
    "            try:\n",
    "                model = torch.load(\n",
    "                    model_path,\n",
    "                    map_location=torch.device('cpu'),\n",
    "                    weights_only=False\n",
    "                )\n",
    "                logger.info(f\"Successfully loaded model structure and weights from {model_path}\")\n",
    "                final_layer_name = 'fc'\n",
    "                if hasattr(model, final_layer_name):\n",
    "                    final_layer = getattr(model, final_layer_name)\n",
    "                    if isinstance(final_layer, nn.Linear):\n",
    "                        num_ftrs = final_layer.in_features\n",
    "                        if final_layer.out_features != num_classes:\n",
    "                            logger.warning(f\"Adapting final layer '{final_layer_name}' of loaded attention model. Output: {final_layer.out_features} -> {num_classes}\")\n",
    "                            setattr(model, final_layer_name, nn.Linear(num_ftrs, num_classes))\n",
    "                        else:\n",
    "                            logger.info(f\"Final layer '{final_layer_name}' already matches class count ({num_classes}).\")\n",
    "                    else:\n",
    "                        logger.warning(f\"Attribute '{final_layer_name}' is not nn.Linear. Manual adaptation might be needed.\")\n",
    "                else:\n",
    "                    logger.warning(f\"Could not find final layer '{final_layer_name}'. Assuming loaded model output is correct.\")\n",
    "            except Exception as e:\n",
    "                logger.error(f\"Failed to load or adapt attention ensemble model from {model_path}: {e}\")\n",
    "                raise\n",
    "        elif self.config.model_name == \"ensemblenet\":\n",
    "            model = EnsembleNet(num_classes, embed_dim=768)\n",
    "\n",
    "        elif self.config.model_name == \"ensemblenet0\":\n",
    "            model = EnsembleNet(num_classes, embed_dim=768)\n",
    "            weights = [\n",
    "                \"artifacts/training/model_mobilenet_best.pth\",\n",
    "                \"artifacts/training/model_mnasnet_best.pth\",\n",
    "                \"artifacts/training/model_squeezenet_best.pth\"\n",
    "            ]\n",
    "                        \n",
    "            model.load_backbone_weights(weights, strict=False)\n",
    "            model.freeze_backbones()\n",
    "        elif self.config.model_name == \"ensemblenet1\":\n",
    "            model = torch.load(\n",
    "                \"artifacts/training/model_ensemblenet0_best.pth\",\n",
    "                map_location=torch.device('cpu'),\n",
    "                weights_only=False\n",
    "            )\n",
    "            model.unfreeze_backbones()\n",
    "            \n",
    "        elif self.config.model_name == \"ensemblenet2\":\n",
    "            model = EnsembleNet(num_classes, embed_dim=768)\n",
    "            weights = [\n",
    "                \"artifacts/training/model_mobilenet_best.pth\",\n",
    "                \"artifacts/training/model_mnasnet_best.pth\",\n",
    "                \"artifacts/training/model_squeezenet_best.pth\"\n",
    "            ]\n",
    "                        \n",
    "            model.load_backbone_weights(weights, strict=False)\n",
    "            model.unfreeze_backbones()\n",
    "\n",
    "        elif self.config.model_name == \"squeezenet\":\n",
    "            model = models.squeezenet1_1(weights=models.SqueezeNet1_1_Weights)\n",
    "            log_msg = f\"Loading ViT-B/16 with {'ImageNet pretrained' if use_pretrained else 'random'} weights.\"\n",
    "            logger.info(log_msg)\n",
    "            model.classifier = nn.Sequential(\n",
    "                nn.Dropout(p=0.5, inplace=True),\n",
    "                nn.Conv2d(512, num_classes, kernel_size=(1, 1)),\n",
    "                nn.ReLU(inplace=True),\n",
    "                nn.AdaptiveAvgPool2d(output_size=(1, 1))\n",
    "            )\n",
    "        elif self.config.model_name == \"shufflenet\":\n",
    "            model = models.shufflenet_v2_x0_5(weights=models.ShuffleNet_V2_X0_5_Weights)\n",
    "            in_features = model._stage_out_channels[-1]\n",
    "            model.fc = nn.Linear(in_features, num_classes)\n",
    "            \n",
    "        elif self.config.model_name == \"mobilenet\":\n",
    "            model = models.mobilenet_v3_small(weights=models.MobileNet_V3_Small_Weights)\n",
    "            lastconv_output_channels = 576\n",
    "            last_channel = 1024\n",
    "            dropout = 0.2\n",
    "            model.classifier = nn.Sequential(\n",
    "                nn.Linear(lastconv_output_channels, last_channel),\n",
    "                nn.Hardswish(inplace=True),\n",
    "                nn.Dropout(p=dropout, inplace=True),\n",
    "                nn.Linear(last_channel, num_classes),\n",
    "            )\n",
    "        elif self.config.model_name == \"attention_ensemble_better\":\n",
    "            pass\n",
    "        elif self.config.model_name == \"mnasnet\":\n",
    "            model = models.mnasnet0_5(weights=models.MNASNet0_5_Weights)\n",
    "            dropout = 0.2\n",
    "            model.classifier = nn.Sequential(nn.Dropout(p=dropout, inplace=True), nn.Linear(1280, num_classes))\n",
    "        else:\n",
    "            raise ValueError(f\"Unsupported model name: {self.config.model_name}\")\n",
    "\n",
    "        self.model = model.to(self.device)\n",
    "        logger.info(f\"Model '{self.config.model_name}' built/loaded and moved to {self.device}.\")\n",
    "        \n",
    "        # Update hyperparameters CSV with model info after building\n",
    "        self.save_hyperparameters()\n",
    "\n",
    "    def compute_dataset_mean_std(self, data_dir, image_size=(224, 224), batch_size=64, sample_limit=None):\n",
    "        \"\"\"\n",
    "        Computes mean and std for all images in a directory (ImageFolder structure).\n",
    "        Uses cached .npy arrays if available, otherwise computes and saves them.\n",
    "        \"\"\"\n",
    "        mean_path = Path(data_dir) / \"mean.npy\"\n",
    "        std_path = Path(data_dir) / \"std.npy\"\n",
    "\n",
    "        if mean_path.exists() and std_path.exists():\n",
    "            logger.info(f\"Loading cached mean/std from {mean_path} and {std_path}\")\n",
    "            mean = np.load(mean_path)\n",
    "            std = np.load(std_path)\n",
    "            return mean.tolist(), std.tolist()\n",
    "\n",
    "        transform = transforms.Compose([\n",
    "            transforms.Resize(image_size),\n",
    "            transforms.ToTensor()\n",
    "        ])\n",
    "        dataset = datasets.ImageFolder(data_dir, transform=transform)\n",
    "        loader = DataLoader(dataset, batch_size=batch_size, shuffle=False, num_workers=4)\n",
    "\n",
    "        n_images = 0\n",
    "        mean = 0.\n",
    "        std = 0.\n",
    "        for i, (imgs, _) in enumerate(loader):\n",
    "            if sample_limit and n_images >= sample_limit:\n",
    "                break\n",
    "            imgs = imgs.view(imgs.size(0), imgs.size(1), -1)\n",
    "            mean += imgs.mean(2).sum(0)\n",
    "            std += imgs.std(2).sum(0)\n",
    "            n_images += imgs.size(0)\n",
    "            if sample_limit and n_images >= sample_limit:\n",
    "                break\n",
    "\n",
    "        mean /= n_images\n",
    "        std /= n_images\n",
    "\n",
    "        np.save(mean_path, mean.cpu().numpy() if hasattr(mean, \"cpu\") else mean)\n",
    "        np.save(std_path, std.cpu().numpy() if hasattr(std, \"cpu\") else std)\n",
    "        logger.info(f\"Saved computed mean/std to {mean_path} and {std_path}\")\n",
    "\n",
    "        return mean.tolist(), std.tolist()\n",
    "\n",
    "    def prepare_data_loaders(self):\n",
    "        \"\"\"Prepares DataLoaders using pre-split train, validation, and test directories.\"\"\"\n",
    "        img_height, img_width, _ = self.config.params_image_size\n",
    "        target_size = (img_height, img_width)\n",
    "        mean, std = self.compute_dataset_mean_std(self.config.train_data_path)\n",
    "\n",
    "        basic_transform = transforms.Compose([\n",
    "            transforms.Resize(target_size),\n",
    "            transforms.ToTensor(),\n",
    "            transforms.Normalize(mean=mean, std=std)\n",
    "        ])\n",
    "\n",
    "        if self.config.params_augmentation:\n",
    "            train_transform = transforms.Compose([\n",
    "                transforms.Resize(target_size),\n",
    "                transforms.RandomRotation(30),\n",
    "                transforms.RandomHorizontalFlip(),\n",
    "                transforms.ColorJitter(brightness=0.2, contrast=0.2, saturation=0.2, hue=0.1),\n",
    "                transforms.ToTensor(),\n",
    "                transforms.Normalize(mean=mean, std=std)\n",
    "            ])\n",
    "            logger.info(\"Using data augmentation for training.\")\n",
    "        else:\n",
    "            train_transform = basic_transform\n",
    "            logger.info(\"Not using data augmentation for training.\")\n",
    "\n",
    "        logger.info(f\"Loading training data from: {self.config.train_data_path}\")\n",
    "        train_dataset = datasets.ImageFolder(\n",
    "            root=self.config.train_data_path,\n",
    "            transform=train_transform\n",
    "        )\n",
    "\n",
    "        logger.info(f\"Loading validation data from: {self.config.valid_data_path}\")\n",
    "        valid_dataset = datasets.ImageFolder(\n",
    "            root=self.config.valid_data_path,\n",
    "            transform=basic_transform\n",
    "        )\n",
    "\n",
    "        logger.info(f\"Loading test data from: {self.config.test_data_path}\")\n",
    "        test_dataset = datasets.ImageFolder(\n",
    "            root=self.config.test_data_path,\n",
    "            transform=basic_transform\n",
    "        )\n",
    "\n",
    "        if not (train_dataset.classes == valid_dataset.classes == test_dataset.classes):\n",
    "            logger.warning(\"Class inconsistency detected between train/validation/test splits!\")\n",
    "        logger.info(f\"Found {len(train_dataset.classes)} classes.\")\n",
    "        if len(train_dataset.classes) != self.config.num_classes:\n",
    "            logger.warning(f\"Number of classes found in data ({len(train_dataset.classes)}) \"\n",
    "                          f\"does not match params.yaml ({self.config.num_classes}). Check data paths and params.\")\n",
    "\n",
    "        num_workers = min(os.cpu_count() // 2, 8) if os.cpu_count() else 4\n",
    "        logger.info(f\"Using {num_workers} workers for DataLoaders.\")\n",
    "\n",
    "        self.train_loader = DataLoader(\n",
    "            dataset=train_dataset,\n",
    "            batch_size=self.config.params_batch_size,\n",
    "            shuffle=True,\n",
    "            num_workers=num_workers,\n",
    "            pin_memory=True\n",
    "        )\n",
    "        self.valid_loader = DataLoader(\n",
    "            dataset=valid_dataset,\n",
    "            batch_size=self.config.params_batch_size,\n",
    "            shuffle=False,\n",
    "            num_workers=num_workers,\n",
    "            pin_memory=True\n",
    "        )\n",
    "        self.test_loader = DataLoader(\n",
    "            dataset=test_dataset,\n",
    "            batch_size=self.config.params_batch_size,\n",
    "            shuffle=False,\n",
    "            num_workers=num_workers,\n",
    "            pin_memory=True\n",
    "        )\n",
    "\n",
    "        logger.info(f\"DataLoaders prepared:\")\n",
    "        logger.info(f\"  Training samples: {len(train_dataset)}, Batches: {len(self.train_loader)}\")\n",
    "        logger.info(f\"  Validation samples: {len(valid_dataset)}, Batches: {len(self.valid_loader)}\")\n",
    "        logger.info(f\"  Test samples: {len(test_dataset)}, Batches: {len(self.test_loader)}\")\n",
    "        \n",
    "        # Update hyperparameters with dataset info\n",
    "        self.save_hyperparameters()\n",
    "\n",
    "    @staticmethod\n",
    "    def save_model(path: Path, model: nn.Module):\n",
    "        logger.info(f\"Saving model to: {path}\")\n",
    "        torch.save(model, path)\n",
    "\n",
    "    def train(self):\n",
    "        \"\"\"Enhanced training method with comprehensive CSV logging and Cosine Annealing LR\"\"\"\n",
    "        if not self.model or not self.train_loader or not self.valid_loader:\n",
    "            logger.error(\"Model or DataLoaders not initialized. Call build_model() and prepare_data_loaders() first.\")\n",
    "            return\n",
    "\n",
    "        logger.info(f\"Starting training for model: {self.config.model_name}...\")\n",
    "        logger.info(f\"Metrics will be logged to: {self.metrics_csv_path}\")\n",
    "        \n",
    "        criterion = nn.CrossEntropyLoss()\n",
    "        optimizer = optim.Adam(filter(lambda p: p.requires_grad, self.model.parameters()), lr=self.config.params_learning_rate)\n",
    "        \n",
    "        scheduler = optim.lr_scheduler.ReduceLROnPlateau(optimizer, 'min', factor=1-1/math.e,patience=self.config.params_early_stopping_patience // 4)\n",
    "        \n",
    "        logger.info(f\"Using OneCycleLR scheduler with T_max={self.config.params_epochs}, eta_min=1e-6\")\n",
    "\n",
    "        best_valid_loss = float('inf')\n",
    "        early_stopping_counter = 0\n",
    "\n",
    "        for epoch in range(self.config.params_epochs):\n",
    "            # Training Phase\n",
    "            self.model.train()\n",
    "            train_loss = 0.0\n",
    "            train_pbar = tqdm(self.train_loader, desc=f'Epoch {epoch+1}/{self.config.params_epochs} [Train]', leave=False)\n",
    "            for inputs, labels in train_pbar:\n",
    "                inputs, labels = inputs.to(self.device), labels.to(self.device)\n",
    "                optimizer.zero_grad()\n",
    "                outputs = self.model(inputs)\n",
    "                if self.config.model_name == \"attention_ensemble\":\n",
    "                    logits = outputs\n",
    "                    loss = F.cross_entropy(logits, labels)\n",
    "                    display_loss = loss.item()\n",
    "                elif isinstance(outputs, models.inception.InceptionOutputs) and self.model.training:\n",
    "                    loss_main = criterion(outputs.logits, labels)\n",
    "                    loss_aux = criterion(outputs.aux_logits, labels)\n",
    "                    loss = loss_main + 0.4 * loss_aux\n",
    "                    display_loss = loss.item()\n",
    "                else:\n",
    "                    outputs_logits = outputs[0] if isinstance(outputs, tuple) else outputs\n",
    "                    loss = criterion(outputs_logits, labels)\n",
    "                    display_loss = loss.item()\n",
    "                loss.backward()\n",
    "                optimizer.step()\n",
    "\n",
    "                train_loss += display_loss * inputs.size(0)\n",
    "                train_pbar.set_postfix({'loss': f'{display_loss:.4f}', 'lr': f\"{optimizer.param_groups[0]['lr']:.1e}\"})\n",
    "            avg_train_loss = train_loss / len(self.train_loader.dataset)\n",
    "\n",
    "            # Validation Phase\n",
    "            self.model.eval()\n",
    "            valid_loss = 0.0\n",
    "            all_labels = []\n",
    "            all_predictions = []\n",
    "            valid_pbar = tqdm(self.valid_loader, desc=f'Epoch {epoch+1}/{self.config.params_epochs} [Valid]', leave=False)\n",
    "            with torch.no_grad():\n",
    "                for inputs, labels in valid_pbar:\n",
    "                    inputs, labels = inputs.to(self.device), labels.to(self.device)\n",
    "                    outputs = self.model(inputs)\n",
    "                    outputs_logits = outputs[0] if isinstance(outputs, tuple) else outputs\n",
    "                    loss = criterion(outputs_logits, labels)\n",
    "                    valid_loss += loss.item() * inputs.size(0)\n",
    "                    _, predicted = torch.max(outputs_logits.data, 1)\n",
    "                    all_labels.extend(labels.cpu().numpy())\n",
    "                    all_predictions.extend(predicted.cpu().numpy())\n",
    "                    valid_pbar.set_postfix({'loss': f'{loss.item():.4f}'})\n",
    "            avg_valid_loss = valid_loss / len(self.valid_loader.dataset)\n",
    "            scheduler.step(avg_valid_loss)\n",
    "            # Calculate metrics\n",
    "            accuracy = accuracy_score(all_labels, all_predictions) * 100\n",
    "            precision = precision_score(all_labels, all_predictions, average='weighted', zero_division=0)\n",
    "            recall = recall_score(all_labels, all_predictions, average='weighted', zero_division=0)\n",
    "            f1 = f1_score(all_labels, all_predictions, average='weighted', zero_division=0)\n",
    "            current_lr = optimizer.param_groups[0]['lr']\n",
    "\n",
    "            logger.info(f'Epoch {epoch+1} Summary -> Train Loss: {avg_train_loss:.4f}, Valid Loss: {avg_valid_loss:.4f}, '\n",
    "                       f'Valid Acc: {accuracy:.2f}%, Prec: {precision:.4f}, Recall: {recall:.4f}, F1: {f1:.4f}, LR: {current_lr:.2e}')\n",
    "\n",
    "            # Determine if this is the best model\n",
    "            is_best = avg_valid_loss < best_valid_loss\n",
    "            \n",
    "            # Log metrics to CSV\n",
    "            self.log_metrics_to_csv(\n",
    "                epoch=epoch,\n",
    "                train_loss=avg_train_loss,\n",
    "                valid_loss=avg_valid_loss,\n",
    "                accuracy=accuracy,\n",
    "                precision=precision,\n",
    "                recall=recall,\n",
    "                f1=f1,\n",
    "                learning_rate=current_lr,\n",
    "                is_best_model=is_best,\n",
    "                early_stopping_counter=early_stopping_counter\n",
    "            )\n",
    "            \n",
    "            # Save models\n",
    "            self.save_model(path=self.config.last_model_path, model=self.model)\n",
    "            \n",
    "            if is_best:\n",
    "                best_valid_loss = avg_valid_loss\n",
    "                early_stopping_counter = 0\n",
    "                self.save_model(path=self.config.best_model_path, model=self.model)\n",
    "                logger.info(f'>>> Best model saved (Epoch {epoch+1}) with Valid Loss: {avg_valid_loss:.4f}')\n",
    "            else:\n",
    "                early_stopping_counter += 1\n",
    "                logger.info(f'Validation loss did not improve. Counter: {early_stopping_counter}/{self.config.params_early_stopping_patience}')\n",
    "                if early_stopping_counter >= self.config.params_early_stopping_patience:\n",
    "                    logger.warning('--- Early stopping triggered ---')\n",
    "                    break\n",
    "\n",
    "        logger.info(f'Training finished for {self.config.model_name}.')\n",
    "        logger.info(f'Best validation loss achieved: {best_valid_loss:.4f}')\n",
    "        logger.info(f'Best model saved at: {self.config.best_model_path}')\n",
    "        logger.info(f'Last model saved at: {self.config.last_model_path}')\n",
    "        logger.info(f'Training metrics saved to: {self.metrics_csv_path}')\n",
    "        logger.info(f'Hyperparameters saved to: {self.hyperparams_csv_path}')\n",
    "        \n",
    "        # Create a final summary CSV\n",
    "        self.create_training_summary()\n",
    "        \n",
    "    def create_training_summary(self):\n",
    "        \"\"\"Create a summary CSV with final training results\"\"\"\n",
    "        try:\n",
    "            # Read the metrics CSV to get final results\n",
    "            df_metrics = pd.read_csv(self.metrics_csv_path)\n",
    "            if not df_metrics.empty:\n",
    "                best_epoch_row = df_metrics.loc[df_metrics['is_best_model'] == True]\n",
    "                final_epoch_row = df_metrics.iloc[-1]\n",
    "                \n",
    "                summary_data = {\n",
    "                    'model_name': [self.config.model_name],\n",
    "                    'total_epochs': [len(df_metrics)],\n",
    "                    'best_epoch': [best_epoch_row['epoch'].iloc[0] if not best_epoch_row.empty else 'N/A'],\n",
    "                    'best_valid_loss': [best_epoch_row['valid_loss'].iloc[0] if not best_epoch_row.empty else 'N/A'],\n",
    "                    'best_accuracy': [best_epoch_row['accuracy'].iloc[0] if not best_epoch_row.empty else 'N/A'],\n",
    "                    'final_train_loss': [final_epoch_row['train_loss']],\n",
    "                    'final_valid_loss': [final_epoch_row['valid_loss']],\n",
    "                    'final_accuracy': [final_epoch_row['accuracy']],\n",
    "                    'final_f1_score': [final_epoch_row['f1_score']],\n",
    "                    'early_stopped': [final_epoch_row['early_stopping_counter'] >= self.config.params_early_stopping_patience],\n",
    "                    'training_completed': [datetime.now().isoformat()]\n",
    "                }\n",
    "                \n",
    "                summary_df = pd.DataFrame(summary_data)\n",
    "                summary_path = Path(self.config.root_dir) / \"logs\" / f\"training_summary_{self.config.model_name}_{datetime.now().strftime('%Y%m%d_%H%M%S')}.csv\"\n",
    "                summary_df.to_csv(summary_path, index=False)\n",
    "                \n",
    "                logger.info(f\"Training summary saved to: {summary_path}\")\n",
    "        except Exception as e:\n",
    "            logger.error(f\"Error creating training summary: {e}\")"
   ]
  },
  {
   "cell_type": "code",
   "execution_count": 18,
   "metadata": {},
   "outputs": [
    {
     "name": "stdout",
     "output_type": "stream",
     "text": [
      "[2025-06-21 00:23:24,739: INFO: utils: yaml file config/config.yaml loaded successfully:]\n",
      "[2025-06-21 00:23:24,746: INFO: utils: yaml file config/params.yaml loaded successfully:]\n",
      "[2025-06-21 00:23:24,747: INFO: utils: created directory at: artifacts:]\n",
      "[2025-06-21 00:23:24,748: INFO: utils: created directory at: artifacts/training:]\n",
      "[2025-06-21 00:23:24,748: INFO: utils: created directory at: artifacts/training/logs:]\n",
      "[2025-06-21 00:23:24,748: INFO: 2355115549: Number of classes set to: 257:]\n",
      "[2025-06-21 00:23:24,749: INFO: 2355115549: Use pretrained weights: True (Based on PRETRAINED_WEIGHTS: IMAGENET1K_V1):]\n",
      "[2025-06-21 00:23:24,751: INFO: 2355115549: Validated 257 classes in artifacts/data_ingestion/train, matching params.yaml.:]\n",
      "[2025-06-21 00:23:24,752: INFO: utils: created directory at: artifacts/training:]\n",
      "[2025-06-21 00:23:24,752: INFO: utils: created directory at: artifacts/training:]\n",
      "[2025-06-21 00:23:24,753: INFO: 2355115549: Run Learning Rate Finder: True:]\n",
      "[2025-06-21 00:23:24,753: INFO: utils: created directory at: artifacts/training:]\n",
      "[2025-06-21 00:23:24,754: INFO: 245092438: Loaded configuration for model: ensemblenet1:]\n",
      "[2025-06-21 00:23:24,754: INFO: 245092438: Target Image Size: [224, 224, 3]:]\n",
      "[2025-06-21 00:23:24,754: INFO: 245092438: Number of classes: 257:]\n",
      "[2025-06-21 00:23:24,755: INFO: 245092438: Initial Learning Rate from params: 0.01:]\n",
      "[2025-06-21 00:23:24,755: INFO: 245092438: Run LR Finder: True:]\n",
      "[2025-06-21 00:23:24,756: INFO: 470616600: Using device: cuda:]\n",
      "[2025-06-21 00:23:24,758: INFO: 470616600: Metrics CSV initialized: artifacts/training/logs/training_metrics_ensemblenet1.csv:]\n",
      "[2025-06-21 00:23:24,762: INFO: 470616600: Hyperparameters saved to: artifacts/training/logs/hyperparameters_ensemblenet1.csv:]\n",
      "[2025-06-21 00:23:24,763: INFO: 470616600: Loading cached mean/std from artifacts/data_ingestion/train/mean.npy and artifacts/data_ingestion/train/std.npy:]\n",
      "[2025-06-21 00:23:24,765: INFO: 470616600: Using data augmentation for training.:]\n",
      "[2025-06-21 00:23:24,765: INFO: 470616600: Loading training data from: artifacts/data_ingestion/train:]\n",
      "[2025-06-21 00:23:24,830: INFO: 470616600: Loading validation data from: artifacts/data_ingestion/val:]\n",
      "[2025-06-21 00:23:24,845: INFO: 470616600: Loading test data from: artifacts/data_ingestion/test:]\n",
      "[2025-06-21 00:23:24,864: INFO: 470616600: Found 257 classes.:]\n",
      "[2025-06-21 00:23:24,864: INFO: 470616600: Using 6 workers for DataLoaders.:]\n",
      "[2025-06-21 00:23:24,865: INFO: 470616600: DataLoaders prepared::]\n",
      "[2025-06-21 00:23:24,865: INFO: 470616600:   Training samples: 21307, Batches: 1332:]\n",
      "[2025-06-21 00:23:24,866: INFO: 470616600:   Validation samples: 3273, Batches: 205:]\n",
      "[2025-06-21 00:23:24,867: INFO: 470616600:   Test samples: 6027, Batches: 377:]\n",
      "[2025-06-21 00:23:24,869: INFO: 470616600: Hyperparameters saved to: artifacts/training/logs/hyperparameters_ensemblenet1.csv:]\n",
      "[2025-06-21 00:23:24,869: INFO: 470616600: Building model: ensemblenet1:]\n",
      "[2025-06-21 00:23:24,938: INFO: ensemblenet: Unfrozen backbone 0 (mobilenet_v3_small):]\n",
      "[2025-06-21 00:23:24,939: INFO: ensemblenet: Unfrozen backbone 1 (mnasnet0_5):]\n",
      "[2025-06-21 00:23:24,939: INFO: ensemblenet: Unfrozen backbone 2 (squeezenet1_1):]\n",
      "[2025-06-21 00:23:24,965: INFO: 470616600: Model 'ensemblenet1' built/loaded and moved to cuda.:]\n",
      "[2025-06-21 00:23:24,967: INFO: 470616600: Hyperparameters saved to: artifacts/training/logs/hyperparameters_ensemblenet1.csv:]\n",
      "[2025-06-21 00:23:24,967: INFO: 245092438: Setting LR Finder iterations to: 1332:]\n",
      "[2025-06-21 00:23:24,968: INFO: 470616600: No previously saved suggested learning rate found:]\n",
      "[2025-06-21 00:23:24,968: INFO: 470616600: --- Running Learning Rate Finder (Ignite) ---:]\n",
      "[2025-06-21 00:23:24,969: INFO: 470616600: Using end_lr=0.001, num_iter=3000, step_mode='exp':]\n",
      "[2025-06-21 00:23:25,060: INFO: engine: Engine run starting with max_epochs=1.:]\n",
      "[2025-06-21 00:26:14,211: INFO: lr_finder: Stopping early, the loss has diverged:]\n",
      "[2025-06-21 00:26:14,214: INFO: engine: Terminate signaled. Engine will stop after current iteration is finished.:]\n",
      "[2025-06-21 00:26:14,216: INFO: engine: Engine run finished. Time taken: 00:02:49.154:]\n",
      "[2025-06-21 00:26:14,537: INFO: 470616600: Plotting LR Finder results...:]\n"
     ]
    },
    {
     "data": {
      "image/png": "[encoded data removed]",
      "text/plain": [
       "<Figure size 640x480 with 1 Axes>"
      ]
     },
     "metadata": {},
     "output_type": "display_data"
    },
    {
     "name": "stdout",
     "output_type": "stream",
     "text": [
      "[2025-06-21 00:26:17,690: INFO: 470616600: LR Finder plot saved to: artifacts/training/lr_finder_plot_ensemblenet1.png:]\n",
      "[2025-06-21 00:26:17,690: INFO: 470616600: Ignite LR Finder suggested learning rate: 5.54e-06:]\n",
      "[2025-06-21 00:26:17,698: INFO: 470616600: LR Finder results saved to: artifacts/training/logs/lr_finder_results_ensemblenet1.csv:]\n",
      "[2025-06-21 00:26:17,704: INFO: 470616600: Suggested learning rate (5.54e-06) saved to: artifacts/training/logs/lr_finder_results_ensemblenet1_suggested_lr.txt:]\n",
      "[2025-06-21 00:26:17,706: INFO: 470616600: --- Learning Rate Finder (Ignite) Finished ---:]\n",
      "[2025-06-21 00:26:17,707: INFO: 245092438: Overriding LR from params. Using Ignite LR Finder result: 5.54e-06:]\n",
      "[2025-06-21 00:26:17,707: INFO: 470616600: Starting training for model: ensemblenet1...:]\n",
      "[2025-06-21 00:26:17,708: INFO: 470616600: Metrics will be logged to: artifacts/training/logs/training_metrics_ensemblenet1.csv:]\n",
      "[2025-06-21 00:26:17,711: INFO: 470616600: Using OneCycleLR scheduler with T_max=100, eta_min=1e-6:]\n"
     ]
    },
    {
     "name": "stderr",
     "output_type": "stream",
     "text": [
      "                                                                                                 "
     ]
    },
    {
     "name": "stdout",
     "output_type": "stream",
     "text": [
      "[2025-06-21 00:29:38,765: INFO: 470616600: Epoch 1 Summary -> Train Loss: 0.2802, Valid Loss: 1.0010, Valid Acc: 76.75%, Prec: 0.7901, Recall: 0.7675, F1: 0.7675, LR: 5.54e-06:]\n",
      "[2025-06-21 00:29:38,766: INFO: 470616600: Saving model to: artifacts/training/model_ensemblenet1_last.pth:]\n"
     ]
    },
    {
     "name": "stderr",
     "output_type": "stream",
     "text": [
      "\r"
     ]
    },
    {
     "name": "stdout",
     "output_type": "stream",
     "text": [
      "[2025-06-21 00:29:38,935: INFO: 470616600: Saving model to: artifacts/training/model_ensemblenet1_best.pth:]\n",
      "[2025-06-21 00:29:39,072: INFO: 470616600: >>> Best model saved (Epoch 1) with Valid Loss: 1.0010:]\n"
     ]
    },
    {
     "name": "stderr",
     "output_type": "stream",
     "text": [
      "                                                                                                 \r"
     ]
    },
    {
     "name": "stdout",
     "output_type": "stream",
     "text": [
      "[2025-06-21 00:32:59,936: INFO: 470616600: Epoch 2 Summary -> Train Loss: 0.2457, Valid Loss: 0.9940, Valid Acc: 77.15%, Prec: 0.7913, Recall: 0.7715, F1: 0.7714, LR: 5.54e-06:]\n",
      "[2025-06-21 00:32:59,938: INFO: 470616600: Saving model to: artifacts/training/model_ensemblenet1_last.pth:]\n",
      "[2025-06-21 00:33:00,117: INFO: 470616600: Saving model to: artifacts/training/model_ensemblenet1_best.pth:]\n",
      "[2025-06-21 00:33:00,279: INFO: 470616600: >>> Best model saved (Epoch 2) with Valid Loss: 0.9940:]\n"
     ]
    },
    {
     "name": "stderr",
     "output_type": "stream",
     "text": [
      "                                                                                                 "
     ]
    },
    {
     "name": "stdout",
     "output_type": "stream",
     "text": [
      "[2025-06-21 00:36:21,147: INFO: 470616600: Epoch 3 Summary -> Train Loss: 0.2247, Valid Loss: 0.9919, Valid Acc: 77.54%, Prec: 0.7921, Recall: 0.7754, F1: 0.7748, LR: 5.54e-06:]\n",
      "[2025-06-21 00:36:21,151: INFO: 470616600: Saving model to: artifacts/training/model_ensemblenet1_last.pth:]\n"
     ]
    },
    {
     "name": "stderr",
     "output_type": "stream",
     "text": [
      "\r"
     ]
    },
    {
     "name": "stdout",
     "output_type": "stream",
     "text": [
      "[2025-06-21 00:36:21,335: INFO: 470616600: Saving model to: artifacts/training/model_ensemblenet1_best.pth:]\n",
      "[2025-06-21 00:36:21,493: INFO: 470616600: >>> Best model saved (Epoch 3) with Valid Loss: 0.9919:]\n"
     ]
    },
    {
     "name": "stderr",
     "output_type": "stream",
     "text": [
      "                                                                                                 \r"
     ]
    },
    {
     "name": "stdout",
     "output_type": "stream",
     "text": [
      "[2025-06-21 00:39:41,011: INFO: 470616600: Epoch 4 Summary -> Train Loss: 0.2124, Valid Loss: 0.9778, Valid Acc: 77.67%, Prec: 0.7922, Recall: 0.7767, F1: 0.7760, LR: 5.54e-06:]\n",
      "[2025-06-21 00:39:41,012: INFO: 470616600: Saving model to: artifacts/training/model_ensemblenet1_last.pth:]\n",
      "[2025-06-21 00:39:41,149: INFO: 470616600: Saving model to: artifacts/training/model_ensemblenet1_best.pth:]\n",
      "[2025-06-21 00:39:41,286: INFO: 470616600: >>> Best model saved (Epoch 4) with Valid Loss: 0.9778:]\n"
     ]
    },
    {
     "name": "stderr",
     "output_type": "stream",
     "text": [
      "                                                                                                 \r"
     ]
    },
    {
     "name": "stdout",
     "output_type": "stream",
     "text": [
      "[2025-06-21 00:42:57,806: INFO: 470616600: Epoch 5 Summary -> Train Loss: 0.2015, Valid Loss: 0.9813, Valid Acc: 77.73%, Prec: 0.7935, Recall: 0.7773, F1: 0.7767, LR: 5.54e-06:]\n",
      "[2025-06-21 00:42:57,807: INFO: 470616600: Saving model to: artifacts/training/model_ensemblenet1_last.pth:]\n",
      "[2025-06-21 00:42:57,946: INFO: 470616600: Validation loss did not improve. Counter: 1/11:]\n"
     ]
    },
    {
     "name": "stderr",
     "output_type": "stream",
     "text": [
      "                                                                                                 "
     ]
    },
    {
     "name": "stdout",
     "output_type": "stream",
     "text": [
      "[2025-06-21 00:46:18,028: INFO: 470616600: Epoch 6 Summary -> Train Loss: 0.1872, Valid Loss: 0.9820, Valid Acc: 77.48%, Prec: 0.7901, Recall: 0.7748, F1: 0.7745, LR: 5.54e-06:]\n",
      "[2025-06-21 00:46:18,029: INFO: 470616600: Saving model to: artifacts/training/model_ensemblenet1_last.pth:]\n"
     ]
    },
    {
     "name": "stderr",
     "output_type": "stream",
     "text": [
      "\r"
     ]
    },
    {
     "name": "stdout",
     "output_type": "stream",
     "text": [
      "[2025-06-21 00:46:18,216: INFO: 470616600: Validation loss did not improve. Counter: 2/11:]\n"
     ]
    },
    {
     "name": "stderr",
     "output_type": "stream",
     "text": [
      "                                                                                                 "
     ]
    },
    {
     "name": "stdout",
     "output_type": "stream",
     "text": [
      "[2025-06-21 00:49:38,924: INFO: 470616600: Epoch 7 Summary -> Train Loss: 0.1761, Valid Loss: 0.9793, Valid Acc: 78.00%, Prec: 0.7962, Recall: 0.7800, F1: 0.7801, LR: 3.50e-06:]\n",
      "[2025-06-21 00:49:38,925: INFO: 470616600: Saving model to: artifacts/training/model_ensemblenet1_last.pth:]\n"
     ]
    },
    {
     "name": "stderr",
     "output_type": "stream",
     "text": [
      "\r"
     ]
    },
    {
     "name": "stdout",
     "output_type": "stream",
     "text": [
      "[2025-06-21 00:49:39,084: INFO: 470616600: Validation loss did not improve. Counter: 3/11:]\n"
     ]
    },
    {
     "name": "stderr",
     "output_type": "stream",
     "text": [
      "                                                                                                 \r"
     ]
    },
    {
     "name": "stdout",
     "output_type": "stream",
     "text": [
      "[2025-06-21 00:52:59,590: INFO: 470616600: Epoch 8 Summary -> Train Loss: 0.1736, Valid Loss: 0.9724, Valid Acc: 77.60%, Prec: 0.7907, Recall: 0.7760, F1: 0.7758, LR: 3.50e-06:]\n",
      "[2025-06-21 00:52:59,592: INFO: 470616600: Saving model to: artifacts/training/model_ensemblenet1_last.pth:]\n",
      "[2025-06-21 00:52:59,782: INFO: 470616600: Saving model to: artifacts/training/model_ensemblenet1_best.pth:]\n",
      "[2025-06-21 00:52:59,920: INFO: 470616600: >>> Best model saved (Epoch 8) with Valid Loss: 0.9724:]\n"
     ]
    },
    {
     "name": "stderr",
     "output_type": "stream",
     "text": [
      "                                                                                                 "
     ]
    },
    {
     "name": "stdout",
     "output_type": "stream",
     "text": [
      "[2025-06-21 00:56:19,425: INFO: 470616600: Epoch 9 Summary -> Train Loss: 0.1687, Valid Loss: 0.9626, Valid Acc: 77.97%, Prec: 0.7954, Recall: 0.7797, F1: 0.7795, LR: 3.50e-06:]\n",
      "[2025-06-21 00:56:19,426: INFO: 470616600: Saving model to: artifacts/training/model_ensemblenet1_last.pth:]\n"
     ]
    },
    {
     "name": "stderr",
     "output_type": "stream",
     "text": [
      "\r"
     ]
    },
    {
     "name": "stdout",
     "output_type": "stream",
     "text": [
      "[2025-06-21 00:56:19,608: INFO: 470616600: Saving model to: artifacts/training/model_ensemblenet1_best.pth:]\n",
      "[2025-06-21 00:56:19,745: INFO: 470616600: >>> Best model saved (Epoch 9) with Valid Loss: 0.9626:]\n"
     ]
    },
    {
     "name": "stderr",
     "output_type": "stream",
     "text": [
      "                                                                                                  "
     ]
    },
    {
     "name": "stdout",
     "output_type": "stream",
     "text": [
      "[2025-06-21 00:59:40,088: INFO: 470616600: Epoch 10 Summary -> Train Loss: 0.1675, Valid Loss: 0.9736, Valid Acc: 78.00%, Prec: 0.7958, Recall: 0.7800, F1: 0.7799, LR: 3.50e-06:]\n",
      "[2025-06-21 00:59:40,089: INFO: 470616600: Saving model to: artifacts/training/model_ensemblenet1_last.pth:]\n"
     ]
    },
    {
     "name": "stderr",
     "output_type": "stream",
     "text": [
      "\r"
     ]
    },
    {
     "name": "stdout",
     "output_type": "stream",
     "text": [
      "[2025-06-21 00:59:40,248: INFO: 470616600: Validation loss did not improve. Counter: 1/11:]\n"
     ]
    },
    {
     "name": "stderr",
     "output_type": "stream",
     "text": [
      "                                                                                                  "
     ]
    },
    {
     "name": "stdout",
     "output_type": "stream",
     "text": [
      "[2025-06-21 01:02:59,734: INFO: 470616600: Epoch 11 Summary -> Train Loss: 0.1663, Valid Loss: 0.9707, Valid Acc: 78.06%, Prec: 0.7947, Recall: 0.7806, F1: 0.7801, LR: 3.50e-06:]\n",
      "[2025-06-21 01:02:59,735: INFO: 470616600: Saving model to: artifacts/training/model_ensemblenet1_last.pth:]\n"
     ]
    },
    {
     "name": "stderr",
     "output_type": "stream",
     "text": [
      "\r"
     ]
    },
    {
     "name": "stdout",
     "output_type": "stream",
     "text": [
      "[2025-06-21 01:02:59,898: INFO: 470616600: Validation loss did not improve. Counter: 2/11:]\n"
     ]
    },
    {
     "name": "stderr",
     "output_type": "stream",
     "text": [
      "                                                                                                  "
     ]
    },
    {
     "name": "stdout",
     "output_type": "stream",
     "text": [
      "[2025-06-21 01:06:19,597: INFO: 470616600: Epoch 12 Summary -> Train Loss: 0.1655, Valid Loss: 0.9686, Valid Acc: 77.97%, Prec: 0.7946, Recall: 0.7797, F1: 0.7792, LR: 2.21e-06:]\n",
      "[2025-06-21 01:06:19,598: INFO: 470616600: Saving model to: artifacts/training/model_ensemblenet1_last.pth:]\n"
     ]
    },
    {
     "name": "stderr",
     "output_type": "stream",
     "text": [
      "\r"
     ]
    },
    {
     "name": "stdout",
     "output_type": "stream",
     "text": [
      "[2025-06-21 01:06:19,768: INFO: 470616600: Validation loss did not improve. Counter: 3/11:]\n"
     ]
    },
    {
     "name": "stderr",
     "output_type": "stream",
     "text": [
      "                                                                                                  "
     ]
    },
    {
     "name": "stdout",
     "output_type": "stream",
     "text": [
      "[2025-06-21 01:09:39,191: INFO: 470616600: Epoch 13 Summary -> Train Loss: 0.1550, Valid Loss: 0.9657, Valid Acc: 78.25%, Prec: 0.7972, Recall: 0.7825, F1: 0.7820, LR: 2.21e-06:]\n",
      "[2025-06-21 01:09:39,193: INFO: 470616600: Saving model to: artifacts/training/model_ensemblenet1_last.pth:]\n"
     ]
    },
    {
     "name": "stderr",
     "output_type": "stream",
     "text": [
      "\r"
     ]
    },
    {
     "name": "stdout",
     "output_type": "stream",
     "text": [
      "[2025-06-21 01:09:39,362: INFO: 470616600: Validation loss did not improve. Counter: 4/11:]\n"
     ]
    },
    {
     "name": "stderr",
     "output_type": "stream",
     "text": [
      "                                                                                                  \r"
     ]
    },
    {
     "name": "stdout",
     "output_type": "stream",
     "text": [
      "[2025-06-21 01:12:59,321: INFO: 470616600: Epoch 14 Summary -> Train Loss: 0.1533, Valid Loss: 0.9740, Valid Acc: 78.43%, Prec: 0.7998, Recall: 0.7843, F1: 0.7841, LR: 2.21e-06:]\n",
      "[2025-06-21 01:12:59,322: INFO: 470616600: Saving model to: artifacts/training/model_ensemblenet1_last.pth:]\n",
      "[2025-06-21 01:12:59,498: INFO: 470616600: Validation loss did not improve. Counter: 5/11:]\n"
     ]
    },
    {
     "name": "stderr",
     "output_type": "stream",
     "text": [
      "                                                                                                  \r"
     ]
    },
    {
     "name": "stdout",
     "output_type": "stream",
     "text": [
      "[2025-06-21 01:16:19,020: INFO: 470616600: Epoch 15 Summary -> Train Loss: 0.1514, Valid Loss: 0.9639, Valid Acc: 78.22%, Prec: 0.7970, Recall: 0.7822, F1: 0.7818, LR: 1.40e-06:]\n",
      "[2025-06-21 01:16:19,021: INFO: 470616600: Saving model to: artifacts/training/model_ensemblenet1_last.pth:]\n",
      "[2025-06-21 01:16:19,178: INFO: 470616600: Validation loss did not improve. Counter: 6/11:]\n"
     ]
    },
    {
     "name": "stderr",
     "output_type": "stream",
     "text": [
      "                                                                                                  "
     ]
    },
    {
     "name": "stdout",
     "output_type": "stream",
     "text": [
      "[2025-06-21 01:19:38,834: INFO: 470616600: Epoch 16 Summary -> Train Loss: 0.1471, Valid Loss: 0.9617, Valid Acc: 78.15%, Prec: 0.7957, Recall: 0.7815, F1: 0.7811, LR: 1.40e-06:]\n",
      "[2025-06-21 01:19:38,837: INFO: 470616600: Saving model to: artifacts/training/model_ensemblenet1_last.pth:]\n"
     ]
    },
    {
     "name": "stderr",
     "output_type": "stream",
     "text": [
      "\r"
     ]
    },
    {
     "name": "stdout",
     "output_type": "stream",
     "text": [
      "[2025-06-21 01:19:38,999: INFO: 470616600: Saving model to: artifacts/training/model_ensemblenet1_best.pth:]\n",
      "[2025-06-21 01:19:39,165: INFO: 470616600: >>> Best model saved (Epoch 16) with Valid Loss: 0.9617:]\n"
     ]
    },
    {
     "name": "stderr",
     "output_type": "stream",
     "text": [
      "                                                                                                  \r"
     ]
    },
    {
     "name": "stdout",
     "output_type": "stream",
     "text": [
      "[2025-06-21 01:22:58,807: INFO: 470616600: Epoch 17 Summary -> Train Loss: 0.1500, Valid Loss: 0.9657, Valid Acc: 78.12%, Prec: 0.7966, Recall: 0.7812, F1: 0.7813, LR: 1.40e-06:]\n",
      "[2025-06-21 01:22:58,809: INFO: 470616600: Saving model to: artifacts/training/model_ensemblenet1_last.pth:]\n",
      "[2025-06-21 01:22:58,961: INFO: 470616600: Validation loss did not improve. Counter: 1/11:]\n"
     ]
    },
    {
     "name": "stderr",
     "output_type": "stream",
     "text": [
      "                                                                                                  \r"
     ]
    },
    {
     "name": "stdout",
     "output_type": "stream",
     "text": [
      "[2025-06-21 01:26:18,489: INFO: 470616600: Epoch 18 Summary -> Train Loss: 0.1448, Valid Loss: 0.9600, Valid Acc: 78.19%, Prec: 0.7959, Recall: 0.7819, F1: 0.7813, LR: 1.40e-06:]\n",
      "[2025-06-21 01:26:18,490: INFO: 470616600: Saving model to: artifacts/training/model_ensemblenet1_last.pth:]\n",
      "[2025-06-21 01:26:18,704: INFO: 470616600: Saving model to: artifacts/training/model_ensemblenet1_best.pth:]\n",
      "[2025-06-21 01:26:18,899: INFO: 470616600: >>> Best model saved (Epoch 18) with Valid Loss: 0.9600:]\n"
     ]
    },
    {
     "name": "stderr",
     "output_type": "stream",
     "text": [
      "                                                                                                  \r"
     ]
    },
    {
     "name": "stdout",
     "output_type": "stream",
     "text": [
      "[2025-06-21 01:29:38,419: INFO: 470616600: Epoch 19 Summary -> Train Loss: 0.1458, Valid Loss: 0.9676, Valid Acc: 78.00%, Prec: 0.7944, Recall: 0.7800, F1: 0.7795, LR: 1.40e-06:]\n",
      "[2025-06-21 01:29:38,421: INFO: 470616600: Saving model to: artifacts/training/model_ensemblenet1_last.pth:]\n",
      "[2025-06-21 01:29:38,617: INFO: 470616600: Validation loss did not improve. Counter: 1/11:]\n"
     ]
    },
    {
     "name": "stderr",
     "output_type": "stream",
     "text": [
      "                                                                                                  "
     ]
    },
    {
     "name": "stdout",
     "output_type": "stream",
     "text": [
      "[2025-06-21 01:32:58,049: INFO: 470616600: Epoch 20 Summary -> Train Loss: 0.1434, Valid Loss: 0.9684, Valid Acc: 77.91%, Prec: 0.7932, Recall: 0.7791, F1: 0.7787, LR: 1.40e-06:]\n",
      "[2025-06-21 01:32:58,050: INFO: 470616600: Saving model to: artifacts/training/model_ensemblenet1_last.pth:]\n"
     ]
    },
    {
     "name": "stderr",
     "output_type": "stream",
     "text": [
      "\r"
     ]
    },
    {
     "name": "stdout",
     "output_type": "stream",
     "text": [
      "[2025-06-21 01:32:58,209: INFO: 470616600: Validation loss did not improve. Counter: 2/11:]\n"
     ]
    },
    {
     "name": "stderr",
     "output_type": "stream",
     "text": [
      "                                                                                                  "
     ]
    },
    {
     "name": "stdout",
     "output_type": "stream",
     "text": [
      "[2025-06-21 01:36:18,085: INFO: 470616600: Epoch 21 Summary -> Train Loss: 0.1423, Valid Loss: 0.9623, Valid Acc: 78.19%, Prec: 0.7963, Recall: 0.7819, F1: 0.7815, LR: 8.84e-07:]\n",
      "[2025-06-21 01:36:18,087: INFO: 470616600: Saving model to: artifacts/training/model_ensemblenet1_last.pth:]\n"
     ]
    },
    {
     "name": "stderr",
     "output_type": "stream",
     "text": [
      "\r"
     ]
    },
    {
     "name": "stdout",
     "output_type": "stream",
     "text": [
      "[2025-06-21 01:36:18,233: INFO: 470616600: Validation loss did not improve. Counter: 3/11:]\n"
     ]
    },
    {
     "name": "stderr",
     "output_type": "stream",
     "text": [
      "                                                                                                  "
     ]
    },
    {
     "name": "stdout",
     "output_type": "stream",
     "text": [
      "[2025-06-21 01:39:37,827: INFO: 470616600: Epoch 22 Summary -> Train Loss: 0.1435, Valid Loss: 0.9639, Valid Acc: 78.00%, Prec: 0.7943, Recall: 0.7800, F1: 0.7798, LR: 8.84e-07:]\n",
      "[2025-06-21 01:39:37,829: INFO: 470616600: Saving model to: artifacts/training/model_ensemblenet1_last.pth:]\n"
     ]
    },
    {
     "name": "stderr",
     "output_type": "stream",
     "text": [
      "\r"
     ]
    },
    {
     "name": "stdout",
     "output_type": "stream",
     "text": [
      "[2025-06-21 01:39:38,042: INFO: 470616600: Validation loss did not improve. Counter: 4/11:]\n"
     ]
    },
    {
     "name": "stderr",
     "output_type": "stream",
     "text": [
      "                                                                                                  "
     ]
    },
    {
     "name": "stdout",
     "output_type": "stream",
     "text": [
      "[2025-06-21 01:42:57,533: INFO: 470616600: Epoch 23 Summary -> Train Loss: 0.1458, Valid Loss: 0.9619, Valid Acc: 78.19%, Prec: 0.7964, Recall: 0.7819, F1: 0.7817, LR: 8.84e-07:]\n"
     ]
    },
    {
     "name": "stderr",
     "output_type": "stream",
     "text": [
      "\r"
     ]
    },
    {
     "name": "stdout",
     "output_type": "stream",
     "text": [
      "[2025-06-21 01:42:57,534: INFO: 470616600: Saving model to: artifacts/training/model_ensemblenet1_last.pth:]\n",
      "[2025-06-21 01:42:57,713: INFO: 470616600: Validation loss did not improve. Counter: 5/11:]\n"
     ]
    },
    {
     "name": "stderr",
     "output_type": "stream",
     "text": [
      "                                                                                                  "
     ]
    },
    {
     "name": "stdout",
     "output_type": "stream",
     "text": [
      "[2025-06-21 01:46:17,462: INFO: 470616600: Epoch 24 Summary -> Train Loss: 0.1349, Valid Loss: 0.9638, Valid Acc: 78.03%, Prec: 0.7944, Recall: 0.7803, F1: 0.7800, LR: 5.59e-07:]\n",
      "[2025-06-21 01:46:17,463: INFO: 470616600: Saving model to: artifacts/training/model_ensemblenet1_last.pth:]\n"
     ]
    },
    {
     "name": "stderr",
     "output_type": "stream",
     "text": [
      "\r"
     ]
    },
    {
     "name": "stdout",
     "output_type": "stream",
     "text": [
      "[2025-06-21 01:46:17,621: INFO: 470616600: Validation loss did not improve. Counter: 6/11:]\n"
     ]
    },
    {
     "name": "stderr",
     "output_type": "stream",
     "text": [
      "                                                                                                  "
     ]
    },
    {
     "name": "stdout",
     "output_type": "stream",
     "text": [
      "[2025-06-21 01:49:37,251: INFO: 470616600: Epoch 25 Summary -> Train Loss: 0.1362, Valid Loss: 0.9637, Valid Acc: 78.06%, Prec: 0.7945, Recall: 0.7806, F1: 0.7803, LR: 5.59e-07:]\n",
      "[2025-06-21 01:49:37,252: INFO: 470616600: Saving model to: artifacts/training/model_ensemblenet1_last.pth:]\n"
     ]
    },
    {
     "name": "stderr",
     "output_type": "stream",
     "text": [
      "\r"
     ]
    },
    {
     "name": "stdout",
     "output_type": "stream",
     "text": [
      "[2025-06-21 01:49:37,418: INFO: 470616600: Validation loss did not improve. Counter: 7/11:]\n"
     ]
    },
    {
     "name": "stderr",
     "output_type": "stream",
     "text": [
      "                                                                                                  "
     ]
    },
    {
     "name": "stdout",
     "output_type": "stream",
     "text": [
      "[2025-06-21 01:52:57,118: INFO: 470616600: Epoch 26 Summary -> Train Loss: 0.1334, Valid Loss: 0.9650, Valid Acc: 78.15%, Prec: 0.7966, Recall: 0.7815, F1: 0.7817, LR: 5.59e-07:]\n",
      "[2025-06-21 01:52:57,119: INFO: 470616600: Saving model to: artifacts/training/model_ensemblenet1_last.pth:]\n"
     ]
    },
    {
     "name": "stderr",
     "output_type": "stream",
     "text": [
      "\r"
     ]
    },
    {
     "name": "stdout",
     "output_type": "stream",
     "text": [
      "[2025-06-21 01:52:57,281: INFO: 470616600: Validation loss did not improve. Counter: 8/11:]\n"
     ]
    },
    {
     "name": "stderr",
     "output_type": "stream",
     "text": [
      "                                                                                                  \r"
     ]
    },
    {
     "name": "stdout",
     "output_type": "stream",
     "text": [
      "[2025-06-21 01:56:16,863: INFO: 470616600: Epoch 27 Summary -> Train Loss: 0.1350, Valid Loss: 0.9622, Valid Acc: 78.15%, Prec: 0.7963, Recall: 0.7815, F1: 0.7813, LR: 3.53e-07:]\n",
      "[2025-06-21 01:56:16,865: INFO: 470616600: Saving model to: artifacts/training/model_ensemblenet1_last.pth:]\n",
      "[2025-06-21 01:56:17,062: INFO: 470616600: Validation loss did not improve. Counter: 9/11:]\n"
     ]
    },
    {
     "name": "stderr",
     "output_type": "stream",
     "text": [
      "                                                                                                  \r"
     ]
    },
    {
     "name": "stdout",
     "output_type": "stream",
     "text": [
      "[2025-06-21 01:59:37,036: INFO: 470616600: Epoch 28 Summary -> Train Loss: 0.1343, Valid Loss: 0.9646, Valid Acc: 78.15%, Prec: 0.7965, Recall: 0.7815, F1: 0.7813, LR: 3.53e-07:]\n",
      "[2025-06-21 01:59:37,039: INFO: 470616600: Saving model to: artifacts/training/model_ensemblenet1_last.pth:]\n",
      "[2025-06-21 01:59:37,210: INFO: 470616600: Validation loss did not improve. Counter: 10/11:]\n"
     ]
    },
    {
     "name": "stderr",
     "output_type": "stream",
     "text": [
      "                                                                                                  "
     ]
    },
    {
     "name": "stdout",
     "output_type": "stream",
     "text": [
      "[2025-06-21 02:02:57,110: INFO: 470616600: Epoch 29 Summary -> Train Loss: 0.1336, Valid Loss: 0.9648, Valid Acc: 78.25%, Prec: 0.7975, Recall: 0.7825, F1: 0.7821, LR: 3.53e-07:]\n",
      "[2025-06-21 02:02:57,111: INFO: 470616600: Saving model to: artifacts/training/model_ensemblenet1_last.pth:]\n"
     ]
    },
    {
     "name": "stderr",
     "output_type": "stream",
     "text": [
      "\r"
     ]
    },
    {
     "name": "stdout",
     "output_type": "stream",
     "text": [
      "[2025-06-21 02:02:57,289: INFO: 470616600: Validation loss did not improve. Counter: 11/11:]\n",
      "[2025-06-21 02:02:57,290: WARNING: 470616600: --- Early stopping triggered ---:]\n",
      "[2025-06-21 02:02:57,290: INFO: 470616600: Training finished for ensemblenet1.:]\n",
      "[2025-06-21 02:02:57,290: INFO: 470616600: Best validation loss achieved: 0.9600:]\n",
      "[2025-06-21 02:02:57,291: INFO: 470616600: Best model saved at: artifacts/training/model_ensemblenet1_best.pth:]\n",
      "[2025-06-21 02:02:57,291: INFO: 470616600: Last model saved at: artifacts/training/model_ensemblenet1_last.pth:]\n",
      "[2025-06-21 02:02:57,292: INFO: 470616600: Training metrics saved to: artifacts/training/logs/training_metrics_ensemblenet1.csv:]\n",
      "[2025-06-21 02:02:57,292: INFO: 470616600: Hyperparameters saved to: artifacts/training/logs/hyperparameters_ensemblenet1.csv:]\n",
      "[2025-06-21 02:02:57,455: INFO: 470616600: Training summary saved to: artifacts/training/logs/training_summary_ensemblenet1_20250621_020257.csv:]\n",
      "[2025-06-21 02:02:57,460: INFO: 245092438: <<<<< Training Pipeline Completed Successfully >>>>>:]\n"
     ]
    }
   ],
   "source": [
    "# In the main execution cell (at the end)\n",
    "# %%\n",
    "import traceback\n",
    "import dataclasses # Import dataclasses to modify config\n",
    "import torchvision\n",
    "torch.serialization.add_safe_globals([\n",
    "    torchvision.models.mobilenetv3.MobileNetV3,\n",
    "    torchvision.models.mnasnet.MNASNet,\n",
    "    torchvision.models.squeezenet.SqueezeNet,\n",
    "])\n",
    "try:\n",
    "    # 1. Get Configuration\n",
    "    config_manager = ConfigurationManager()\n",
    "    training_config = config_manager.get_training_config()\n",
    "    logger.info(f\"Loaded configuration for model: {training_config.model_name}\")\n",
    "    logger.info(f\"Target Image Size: {training_config.params_image_size}\")\n",
    "    logger.info(f\"Number of classes: {training_config.num_classes}\")\n",
    "    logger.info(f\"Initial Learning Rate from params: {training_config.params_learning_rate}\")\n",
    "    logger.info(f\"Run LR Finder: {training_config.params_find_lr}\")\n",
    "\n",
    "    # 2. Initialize Training Class\n",
    "    training = Training(training_config) # Pass the config object\n",
    "\n",
    "    # 3. Prepare Data Loaders\n",
    "    training.prepare_data_loaders()\n",
    "\n",
    "    # 4. Build the selected model\n",
    "    training.build_model()\n",
    "\n",
    "    # --- 5. Run LR Finder (if enabled) ---\n",
    "    if training.config.params_find_lr:\n",
    "        # --- Call the Ignite version ---\n",
    "        # Adjust parameters like end_lr, num_iter if needed\n",
    "        num_iterations_finder = len(training.train_loader) # Run for approx one epoch\n",
    "        logger.info(f\"Setting LR Finder iterations to: {num_iterations_finder}\")\n",
    "        suggested_lr = training.find_optimal_lr_ignite(1e-6, 1e-3, num_iter=3000)\n",
    "        # --------------------------------\n",
    "        # suggested_lr = 1e-3\n",
    "        if suggested_lr is not None:\n",
    "            # Update the learning rate in the config object\n",
    "            training.config = dataclasses.replace(training.config, params_learning_rate=suggested_lr)\n",
    "            logger.info(f\"Overriding LR from params. Using Ignite LR Finder result: {training.config.params_learning_rate:.2e}\")\n",
    "        else:\n",
    "            logger.warning(f\"Ignite LR Finder did not provide a suggestion. Using original LR: {training.config.params_learning_rate:.2e}\")\n",
    "            # No change needed, keep the original LR\n",
    "    else:\n",
    "        logger.info(\"Skipping LR Finder as per configuration.\")\n",
    "    # --- End LR Finder ---\n",
    "\n",
    "    # 6. Start Training (uses the potentially updated LR in training.config)\n",
    "    training.train()\n",
    "\n",
    "    logger.info(\"<<<<< Training Pipeline Completed Successfully >>>>>\")\n",
    "\n",
    "# (Keep existing except block, maybe add Ignite specific import errors if needed)\n",
    "except ImportError as e:\n",
    "    if 'ignite' in str(e):\n",
    "         logger.error(\"ImportError: `pytorch-ignite` library not found or import failed. Please install it: `pip install pytorch-ignite matplotlib`\")\n",
    "    elif 'matplotlib' in str(e):\n",
    "         logger.error(\"ImportError: `matplotlib` library not found. Please install it for plotting: `pip install matplotlib`\")\n",
    "    else:\n",
    "         logger.exception(\"An import error occurred:\")\n",
    "# ... rest of your except blocks ...\n",
    "except Exception as e:\n",
    "    logger.exception(\"An unexpected error occurred during the training pipeline:\")"
   ]
  },
  {
   "cell_type": "code",
   "execution_count": null,
   "metadata": {},
   "outputs": [],
   "source": []
  }
 ],
 "metadata": {
  "kernelspec": {
   "display_name": "cv",
   "language": "python",
   "name": "python3"
  },
  "language_info": {
   "codemirror_mode": {
    "name": "ipython",
    "version": 3
   },
   "file_extension": ".py",
   "mimetype": "text/x-python",
   "name": "python",
   "nbconvert_exporter": "python",
   "pygments_lexer": "ipython3",
   "version": "3.13.3"
  }
 },
 "nbformat": 4,
 "nbformat_minor": 2
}
